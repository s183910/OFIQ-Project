{
 "cells": [
  {
   "cell_type": "code",
   "execution_count": 1,
   "metadata": {},
   "outputs": [],
   "source": [
    "import shutil\n",
    "import os\n",
    "\n",
    "def move_all_files(src_directory, dst_directory):\n",
    "    \"\"\"\n",
    "    Moves all files from the source directory to the destination directory.\n",
    "\n",
    "    Args:\n",
    "    src_directory (str): The path to the source directory.\n",
    "    dst_directory (str): The path to the destination directory.\n",
    "    \"\"\"\n",
    "    # List all files in the source directory\n",
    "    files = [f for f in os.listdir(src_directory) if os.path.isfile(os.path.join(src_directory, f))]\n",
    "\n",
    "    # Move each file to the destination directory\n",
    "    for file in files:\n",
    "        shutil.move(os.path.join(src_directory, file), dst_directory)\n",
    "\n",
    "    print(f\"All files moved from {src_directory} to {dst_directory}.\")\n"
   ]
  },
  {
   "cell_type": "code",
   "execution_count": 4,
   "metadata": {},
   "outputs": [
    {
     "name": "stdout",
     "output_type": "stream",
     "text": [
      "All files moved from data/tests/images/adults_full_moved_chunks/chunk_26 to data/tests/images/adults_full_moved_chunks/chunk_24.\n"
     ]
    }
   ],
   "source": [
    "src_directory = 'data/tests/images/adults_full_moved_chunks/chunk_26'\n",
    "dst_directory = 'data/tests/images/adults_full_moved_chunks/chunk_24'\n",
    "move_all_files(src_directory, dst_directory)\n"
   ]
  },
  {
   "cell_type": "code",
   "execution_count": 8,
   "metadata": {},
   "outputs": [
    {
     "name": "stdout",
     "output_type": "stream",
     "text": [
      "All files moved from data/tests/images/adults_full_moved_chunks/chunk_100 to data/tests/images/adults_full_moved_chunks/chunk_26.\n",
      "All files moved from data/tests/images/adults_full_moved_chunks/chunk_101 to data/tests/images/adults_full_moved_chunks/chunk_26.\n",
      "All files moved from data/tests/images/adults_full_moved_chunks/chunk_102 to data/tests/images/adults_full_moved_chunks/chunk_26.\n",
      "All files moved from data/tests/images/adults_full_moved_chunks/chunk_103 to data/tests/images/adults_full_moved_chunks/chunk_26.\n",
      "All files moved from data/tests/images/adults_full_moved_chunks/chunk_104 to data/tests/images/adults_full_moved_chunks/chunk_26.\n",
      "All files moved from data/tests/images/adults_full_moved_chunks/chunk_105 to data/tests/images/adults_full_moved_chunks/chunk_26.\n",
      "All files moved from data/tests/images/adults_full_moved_chunks/chunk_106 to data/tests/images/adults_full_moved_chunks/chunk_26.\n",
      "All files moved from data/tests/images/adults_full_moved_chunks/chunk_107 to data/tests/images/adults_full_moved_chunks/chunk_26.\n",
      "All files moved from data/tests/images/adults_full_moved_chunks/chunk_108 to data/tests/images/adults_full_moved_chunks/chunk_26.\n",
      "All files moved from data/tests/images/adults_full_moved_chunks/chunk_109 to data/tests/images/adults_full_moved_chunks/chunk_26.\n",
      "All files moved from data/tests/images/adults_full_moved_chunks/chunk_110 to data/tests/images/adults_full_moved_chunks/chunk_26.\n",
      "All files moved from data/tests/images/adults_full_moved_chunks/chunk_111 to data/tests/images/adults_full_moved_chunks/chunk_26.\n",
      "All files moved from data/tests/images/adults_full_moved_chunks/chunk_112 to data/tests/images/adults_full_moved_chunks/chunk_26.\n",
      "All files moved from data/tests/images/adults_full_moved_chunks/chunk_113 to data/tests/images/adults_full_moved_chunks/chunk_26.\n",
      "All files moved from data/tests/images/adults_full_moved_chunks/chunk_114 to data/tests/images/adults_full_moved_chunks/chunk_26.\n",
      "All files moved from data/tests/images/adults_full_moved_chunks/chunk_115 to data/tests/images/adults_full_moved_chunks/chunk_26.\n",
      "All files moved from data/tests/images/adults_full_moved_chunks/chunk_116 to data/tests/images/adults_full_moved_chunks/chunk_26.\n",
      "All files moved from data/tests/images/adults_full_moved_chunks/chunk_117 to data/tests/images/adults_full_moved_chunks/chunk_26.\n",
      "All files moved from data/tests/images/adults_full_moved_chunks/chunk_118 to data/tests/images/adults_full_moved_chunks/chunk_26.\n",
      "All files moved from data/tests/images/adults_full_moved_chunks/chunk_119 to data/tests/images/adults_full_moved_chunks/chunk_26.\n",
      "All files moved from data/tests/images/adults_full_moved_chunks/chunk_120 to data/tests/images/adults_full_moved_chunks/chunk_26.\n",
      "All files moved from data/tests/images/adults_full_moved_chunks/chunk_121 to data/tests/images/adults_full_moved_chunks/chunk_26.\n",
      "All files moved from data/tests/images/adults_full_moved_chunks/chunk_122 to data/tests/images/adults_full_moved_chunks/chunk_26.\n",
      "All files moved from data/tests/images/adults_full_moved_chunks/chunk_123 to data/tests/images/adults_full_moved_chunks/chunk_26.\n",
      "All files moved from data/tests/images/adults_full_moved_chunks/chunk_124 to data/tests/images/adults_full_moved_chunks/chunk_26.\n",
      "All files moved from data/tests/images/adults_full_moved_chunks/chunk_125 to data/tests/images/adults_full_moved_chunks/chunk_26.\n",
      "All files moved from data/tests/images/adults_full_moved_chunks/chunk_126 to data/tests/images/adults_full_moved_chunks/chunk_26.\n",
      "All files moved from data/tests/images/adults_full_moved_chunks/chunk_127 to data/tests/images/adults_full_moved_chunks/chunk_26.\n",
      "All files moved from data/tests/images/adults_full_moved_chunks/chunk_128 to data/tests/images/adults_full_moved_chunks/chunk_26.\n",
      "All files moved from data/tests/images/adults_full_moved_chunks/chunk_129 to data/tests/images/adults_full_moved_chunks/chunk_26.\n",
      "All files moved from data/tests/images/adults_full_moved_chunks/chunk_130 to data/tests/images/adults_full_moved_chunks/chunk_26.\n",
      "All files moved from data/tests/images/adults_full_moved_chunks/chunk_131 to data/tests/images/adults_full_moved_chunks/chunk_26.\n",
      "All files moved from data/tests/images/adults_full_moved_chunks/chunk_132 to data/tests/images/adults_full_moved_chunks/chunk_26.\n",
      "All files moved from data/tests/images/adults_full_moved_chunks/chunk_133 to data/tests/images/adults_full_moved_chunks/chunk_26.\n",
      "All files moved from data/tests/images/adults_full_moved_chunks/chunk_134 to data/tests/images/adults_full_moved_chunks/chunk_26.\n",
      "All files moved from data/tests/images/adults_full_moved_chunks/chunk_135 to data/tests/images/adults_full_moved_chunks/chunk_26.\n",
      "All files moved from data/tests/images/adults_full_moved_chunks/chunk_136 to data/tests/images/adults_full_moved_chunks/chunk_26.\n",
      "All files moved from data/tests/images/adults_full_moved_chunks/chunk_137 to data/tests/images/adults_full_moved_chunks/chunk_26.\n",
      "All files moved from data/tests/images/adults_full_moved_chunks/chunk_138 to data/tests/images/adults_full_moved_chunks/chunk_26.\n",
      "All files moved from data/tests/images/adults_full_moved_chunks/chunk_139 to data/tests/images/adults_full_moved_chunks/chunk_26.\n",
      "All files moved from data/tests/images/adults_full_moved_chunks/chunk_140 to data/tests/images/adults_full_moved_chunks/chunk_26.\n",
      "All files moved from data/tests/images/adults_full_moved_chunks/chunk_141 to data/tests/images/adults_full_moved_chunks/chunk_26.\n",
      "All files moved from data/tests/images/adults_full_moved_chunks/chunk_142 to data/tests/images/adults_full_moved_chunks/chunk_26.\n",
      "All files moved from data/tests/images/adults_full_moved_chunks/chunk_143 to data/tests/images/adults_full_moved_chunks/chunk_26.\n",
      "All files moved from data/tests/images/adults_full_moved_chunks/chunk_144 to data/tests/images/adults_full_moved_chunks/chunk_26.\n",
      "All files moved from data/tests/images/adults_full_moved_chunks/chunk_145 to data/tests/images/adults_full_moved_chunks/chunk_26.\n",
      "All files moved from data/tests/images/adults_full_moved_chunks/chunk_146 to data/tests/images/adults_full_moved_chunks/chunk_26.\n",
      "All files moved from data/tests/images/adults_full_moved_chunks/chunk_147 to data/tests/images/adults_full_moved_chunks/chunk_26.\n",
      "All files moved from data/tests/images/adults_full_moved_chunks/chunk_148 to data/tests/images/adults_full_moved_chunks/chunk_26.\n",
      "All files moved from data/tests/images/adults_full_moved_chunks/chunk_149 to data/tests/images/adults_full_moved_chunks/chunk_26.\n",
      "All files moved from data/tests/images/adults_full_moved_chunks/chunk_150 to data/tests/images/adults_full_moved_chunks/chunk_26.\n",
      "All files moved from data/tests/images/adults_full_moved_chunks/chunk_151 to data/tests/images/adults_full_moved_chunks/chunk_26.\n",
      "All files moved from data/tests/images/adults_full_moved_chunks/chunk_152 to data/tests/images/adults_full_moved_chunks/chunk_26.\n",
      "All files moved from data/tests/images/adults_full_moved_chunks/chunk_153 to data/tests/images/adults_full_moved_chunks/chunk_26.\n",
      "All files moved from data/tests/images/adults_full_moved_chunks/chunk_154 to data/tests/images/adults_full_moved_chunks/chunk_26.\n",
      "All files moved from data/tests/images/adults_full_moved_chunks/chunk_155 to data/tests/images/adults_full_moved_chunks/chunk_26.\n",
      "All files moved from data/tests/images/adults_full_moved_chunks/chunk_156 to data/tests/images/adults_full_moved_chunks/chunk_26.\n",
      "All files moved from data/tests/images/adults_full_moved_chunks/chunk_157 to data/tests/images/adults_full_moved_chunks/chunk_26.\n",
      "All files moved from data/tests/images/adults_full_moved_chunks/chunk_158 to data/tests/images/adults_full_moved_chunks/chunk_26.\n",
      "All files moved from data/tests/images/adults_full_moved_chunks/chunk_159 to data/tests/images/adults_full_moved_chunks/chunk_26.\n",
      "All files moved from data/tests/images/adults_full_moved_chunks/chunk_160 to data/tests/images/adults_full_moved_chunks/chunk_26.\n",
      "All files moved from data/tests/images/adults_full_moved_chunks/chunk_161 to data/tests/images/adults_full_moved_chunks/chunk_26.\n",
      "All files moved from data/tests/images/adults_full_moved_chunks/chunk_162 to data/tests/images/adults_full_moved_chunks/chunk_26.\n",
      "All files moved from data/tests/images/adults_full_moved_chunks/chunk_163 to data/tests/images/adults_full_moved_chunks/chunk_26.\n",
      "All files moved from data/tests/images/adults_full_moved_chunks/chunk_164 to data/tests/images/adults_full_moved_chunks/chunk_26.\n",
      "All files moved from data/tests/images/adults_full_moved_chunks/chunk_165 to data/tests/images/adults_full_moved_chunks/chunk_26.\n",
      "All files moved from data/tests/images/adults_full_moved_chunks/chunk_166 to data/tests/images/adults_full_moved_chunks/chunk_26.\n",
      "All files moved from data/tests/images/adults_full_moved_chunks/chunk_167 to data/tests/images/adults_full_moved_chunks/chunk_26.\n",
      "All files moved from data/tests/images/adults_full_moved_chunks/chunk_168 to data/tests/images/adults_full_moved_chunks/chunk_26.\n",
      "All files moved from data/tests/images/adults_full_moved_chunks/chunk_169 to data/tests/images/adults_full_moved_chunks/chunk_26.\n",
      "All files moved from data/tests/images/adults_full_moved_chunks/chunk_170 to data/tests/images/adults_full_moved_chunks/chunk_26.\n",
      "All files moved from data/tests/images/adults_full_moved_chunks/chunk_171 to data/tests/images/adults_full_moved_chunks/chunk_26.\n",
      "All files moved from data/tests/images/adults_full_moved_chunks/chunk_172 to data/tests/images/adults_full_moved_chunks/chunk_26.\n",
      "All files moved from data/tests/images/adults_full_moved_chunks/chunk_173 to data/tests/images/adults_full_moved_chunks/chunk_26.\n",
      "All files moved from data/tests/images/adults_full_moved_chunks/chunk_174 to data/tests/images/adults_full_moved_chunks/chunk_26.\n",
      "All files moved from data/tests/images/adults_full_moved_chunks/chunk_175 to data/tests/images/adults_full_moved_chunks/chunk_26.\n",
      "All files moved from data/tests/images/adults_full_moved_chunks/chunk_176 to data/tests/images/adults_full_moved_chunks/chunk_26.\n",
      "All files moved from data/tests/images/adults_full_moved_chunks/chunk_177 to data/tests/images/adults_full_moved_chunks/chunk_26.\n",
      "All files moved from data/tests/images/adults_full_moved_chunks/chunk_178 to data/tests/images/adults_full_moved_chunks/chunk_26.\n",
      "All files moved from data/tests/images/adults_full_moved_chunks/chunk_179 to data/tests/images/adults_full_moved_chunks/chunk_26.\n",
      "All files moved from data/tests/images/adults_full_moved_chunks/chunk_180 to data/tests/images/adults_full_moved_chunks/chunk_26.\n",
      "All files moved from data/tests/images/adults_full_moved_chunks/chunk_181 to data/tests/images/adults_full_moved_chunks/chunk_26.\n",
      "All files moved from data/tests/images/adults_full_moved_chunks/chunk_182 to data/tests/images/adults_full_moved_chunks/chunk_26.\n",
      "All files moved from data/tests/images/adults_full_moved_chunks/chunk_183 to data/tests/images/adults_full_moved_chunks/chunk_26.\n"
     ]
    },
    {
     "ename": "FileNotFoundError",
     "evalue": "[Errno 2] No such file or directory: 'data/tests/images/adults_full_moved_chunks/chunk_184'",
     "output_type": "error",
     "traceback": [
      "\u001b[0;31m---------------------------------------------------------------------------\u001b[0m",
      "\u001b[0;31mFileNotFoundError\u001b[0m                         Traceback (most recent call last)",
      "Cell \u001b[0;32mIn[8], line 4\u001b[0m\n\u001b[1;32m      2\u001b[0m src_directory \u001b[38;5;241m=\u001b[39m \u001b[38;5;124mf\u001b[39m\u001b[38;5;124m'\u001b[39m\u001b[38;5;124mdata/tests/images/adults_full_moved_chunks/chunk_\u001b[39m\u001b[38;5;132;01m{\u001b[39;00mi\u001b[38;5;132;01m}\u001b[39;00m\u001b[38;5;124m'\u001b[39m\n\u001b[1;32m      3\u001b[0m dst_directory \u001b[38;5;241m=\u001b[39m \u001b[38;5;124m'\u001b[39m\u001b[38;5;124mdata/tests/images/adults_full_moved_chunks/chunk_26\u001b[39m\u001b[38;5;124m'\u001b[39m\n\u001b[0;32m----> 4\u001b[0m \u001b[43mmove_all_files\u001b[49m\u001b[43m(\u001b[49m\u001b[43msrc_directory\u001b[49m\u001b[43m,\u001b[49m\u001b[43m \u001b[49m\u001b[43mdst_directory\u001b[49m\u001b[43m)\u001b[49m\n",
      "Cell \u001b[0;32mIn[1], line 13\u001b[0m, in \u001b[0;36mmove_all_files\u001b[0;34m(src_directory, dst_directory)\u001b[0m\n\u001b[1;32m      5\u001b[0m \u001b[38;5;250m\u001b[39m\u001b[38;5;124;03m\"\"\"\u001b[39;00m\n\u001b[1;32m      6\u001b[0m \u001b[38;5;124;03mMoves all files from the source directory to the destination directory.\u001b[39;00m\n\u001b[1;32m      7\u001b[0m \n\u001b[0;32m   (...)\u001b[0m\n\u001b[1;32m     10\u001b[0m \u001b[38;5;124;03mdst_directory (str): The path to the destination directory.\u001b[39;00m\n\u001b[1;32m     11\u001b[0m \u001b[38;5;124;03m\"\"\"\u001b[39;00m\n\u001b[1;32m     12\u001b[0m \u001b[38;5;66;03m# List all files in the source directory\u001b[39;00m\n\u001b[0;32m---> 13\u001b[0m files \u001b[38;5;241m=\u001b[39m [f \u001b[38;5;28;01mfor\u001b[39;00m f \u001b[38;5;129;01min\u001b[39;00m \u001b[43mos\u001b[49m\u001b[38;5;241;43m.\u001b[39;49m\u001b[43mlistdir\u001b[49m\u001b[43m(\u001b[49m\u001b[43msrc_directory\u001b[49m\u001b[43m)\u001b[49m \u001b[38;5;28;01mif\u001b[39;00m os\u001b[38;5;241m.\u001b[39mpath\u001b[38;5;241m.\u001b[39misfile(os\u001b[38;5;241m.\u001b[39mpath\u001b[38;5;241m.\u001b[39mjoin(src_directory, f))]\n\u001b[1;32m     15\u001b[0m \u001b[38;5;66;03m# Move each file to the destination directory\u001b[39;00m\n\u001b[1;32m     16\u001b[0m \u001b[38;5;28;01mfor\u001b[39;00m file \u001b[38;5;129;01min\u001b[39;00m files:\n",
      "\u001b[0;31mFileNotFoundError\u001b[0m: [Errno 2] No such file or directory: 'data/tests/images/adults_full_moved_chunks/chunk_184'"
     ]
    }
   ],
   "source": [
    "for i in range(100, 185):  # Adjust the range to include 45\n",
    "    src_directory = f'data/tests/images/adults_full_moved_chunks/chunk_{i}'\n",
    "    dst_directory = 'data/tests/images/adults_full_moved_chunks/chunk_26'\n",
    "    move_all_files(src_directory, dst_directory)\n"
   ]
  },
  {
   "cell_type": "code",
   "execution_count": 1,
   "metadata": {},
   "outputs": [
    {
     "name": "stdout",
     "output_type": "stream",
     "text": [
      "Successfully merged 7 files into '/mnt/c/Dokumenter/Dokumenter/UNI/Master/Thesis/GitHub_Repo/OFIQ-Project/install_x86_64_linux/Release/bin/merged_output_adults_so_far.csv'.\n"
     ]
    }
   ],
   "source": [
    "import pandas as pd\n",
    "import os\n",
    "\n",
    "def merge_csv_files(directory_path, output_file):\n",
    "    \"\"\"\n",
    "    Merges all CSV files in the given directory into a single CSV file.\n",
    "\n",
    "    Args:\n",
    "    directory_path (str): Path to the directory containing CSV files to merge.\n",
    "    output_file (str): Path where the merged CSV file will be saved.\n",
    "    \"\"\"\n",
    "    # List all CSV files in the directory\n",
    "    csv_files = [f for f in os.listdir(directory_path) if f.endswith('.csv')]\n",
    "\n",
    "    # Initialize an empty list to store dataframes\n",
    "    dfs = []\n",
    "\n",
    "    # Loop over the list of csv files\n",
    "    for file in csv_files:\n",
    "        # Read the csv file and append it to the list of dataframes\n",
    "        df = pd.read_csv(os.path.join(directory_path, file))\n",
    "        dfs.append(df)\n",
    "\n",
    "    # Concatenate all dataframes in the list into one\n",
    "    merged_df = pd.concat(dfs, ignore_index=True)\n",
    "\n",
    "    # Write the merged dataframe to a new single output csv file\n",
    "    merged_df.to_csv(output_file, index=False)\n",
    "    print(f\"Successfully merged {len(csv_files)} files into '{output_file}'.\")\n",
    "\n",
    "# Example usage:\n",
    "directory_path = '/mnt/c/Dokumenter/Dokumenter/UNI/Master/Thesis/GitHub_Repo/OFIQ-Project/install_x86_64_linux/Release/bin/adults_csvs'\n",
    "output_file = '/mnt/c/Dokumenter/Dokumenter/UNI/Master/Thesis/GitHub_Repo/OFIQ-Project/install_x86_64_linux/Release/bin/merged_output_adults_so_far.csv'\n",
    "merge_csv_files(directory_path, output_file)\n"
   ]
  }
 ],
 "metadata": {
  "kernelspec": {
   "display_name": "Katrine_MLOps_env",
   "language": "python",
   "name": "python3"
  },
  "language_info": {
   "codemirror_mode": {
    "name": "ipython",
    "version": 3
   },
   "file_extension": ".py",
   "mimetype": "text/x-python",
   "name": "python",
   "nbconvert_exporter": "python",
   "pygments_lexer": "ipython3",
   "version": "3.10.6"
  }
 },
 "nbformat": 4,
 "nbformat_minor": 2
}
