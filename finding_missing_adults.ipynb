{
 "cells": [
  {
   "cell_type": "markdown",
   "metadata": {},
   "source": [
    "A lock file already exists in the repository, which blocks this operation from completing."
   ]
  },
  {
   "cell_type": "code",
   "execution_count": 1,
   "metadata": {},
   "outputs": [],
   "source": [
    "import os\n",
    "import shutil\n",
    "import pandas as pd\n",
    "\n",
    "def move_matching_files(base_folder, csv_file, dest_folder):\n",
    "    \"\"\"\n",
    "    Moves files whose names are mentioned in a CSV file from their current subfolder to a destination folder.\n",
    "\n",
    "    Args:\n",
    "    base_folder (str): Path to the folder containing subfolders.\n",
    "    csv_file (str): Path to the CSV file to check for file names.\n",
    "    dest_folder (str): Path to the folder where files should be moved if their names are found in the CSV file.\n",
    "    \"\"\"\n",
    "    # Load the CSV file into a pandas DataFrame\n",
    "    df = pd.read_csv(csv_file)\n",
    "\n",
    "    # Convert all data to string and create a set for fast lookup\n",
    "    file_names_set = set(df.astype(str).values.flatten())\n",
    "    print(file_names_set)\n",
    "\n",
    "    # List all subdirectories in the base folder\n",
    "    subfolders = [f.path for f in os.scandir(base_folder) if f.is_dir()]\n",
    "\n",
    "    # Check each subfolder\n",
    "    for folder in subfolders:\n",
    "        print(folder)\n",
    "        # List all files in the subfolder\n",
    "        for file in os.listdir(folder):\n",
    "            print(file)\n",
    "            file_path = os.path.join(folder, file)\n",
    "            print(file_path)\n",
    "            if os.path.isfile(file_path):\n",
    "                # Extract file name without extension if needed or just file name\n",
    "                file_name = os.path.splitext(file)[0]  # if you need to match without file extension\n",
    "                # file_name = file  # if you need to match the full file name with extension\n",
    "                print(file_name)\n",
    "                # Check if file name is in the CSV data\n",
    "                if file_name in file_names_set:\n",
    "                    # Move the file if its name is found in the set\n",
    "                    shutil.move(file_path, dest_folder)\n",
    "                    print(f\"Moved '{file}' from '{folder}' to '{dest_folder}'\")\n",
    "\n"
   ]
  },
  {
   "cell_type": "code",
   "execution_count": null,
   "metadata": {},
   "outputs": [],
   "source": [
    "\n",
    "# Example usage:\n",
    "base_folder = '/mnt/c/Dokumenter/Dokumenter/UNI/Master/Thesis/GitHub_Repo/OFIQ-Project/data/tests/images/adults_full/adults_full'\n",
    "csv_file = '/mnt/c/Dokumenter/Dokumenter/UNI/Master/Thesis/GitHub_Repo/OFIQ-Project/install_x86_64_linux/Release/bin/merged_output_adults_so_far.csv'\n",
    "dest_folder = '/mnt/c/Dokumenter/Dokumenter/UNI/Master/Thesis/GitHub_Repo/OFIQ-Project/data/tests/images/adults_full_already_done'\n",
    "move_matching_files(base_folder, csv_file, dest_folder)\n"
   ]
  }
 ],
 "metadata": {
  "kernelspec": {
   "display_name": "Katrine_MLOps_env",
   "language": "python",
   "name": "python3"
  },
  "language_info": {
   "codemirror_mode": {
    "name": "ipython",
    "version": 3
   },
   "file_extension": ".py",
   "mimetype": "text/x-python",
   "name": "python",
   "nbconvert_exporter": "python",
   "pygments_lexer": "ipython3",
   "version": "3.10.6"
  }
 },
 "nbformat": 4,
 "nbformat_minor": 2
}
